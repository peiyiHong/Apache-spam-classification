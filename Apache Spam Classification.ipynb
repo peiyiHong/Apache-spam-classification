{
 "cells": [
  {
   "cell_type": "markdown",
   "metadata": {
    "colab_type": "text",
    "id": "YdJZCF6BChN5"
   },
   "source": [
    "# Get the data"
   ]
  },
  {
   "cell_type": "markdown",
   "metadata": {
    "colab_type": "text",
    "id": "XD2Zem3_ChN7"
   },
   "source": [
    "## Download data files"
   ]
  },
  {
   "cell_type": "code",
   "execution_count": 1,
   "metadata": {
    "colab": {},
    "colab_type": "code",
    "executionInfo": {
     "elapsed": 1443,
     "status": "ok",
     "timestamp": 1597025596022,
     "user": {
      "displayName": "洪培翊",
      "photoUrl": "",
      "userId": "11336533706330979787"
     },
     "user_tz": -480
    },
    "id": "X_oUJIemChN9"
   },
   "outputs": [],
   "source": [
    "import os\n",
    "import urllib\n",
    "import tarfile\n",
    "import urllib.request\n",
    "\n",
    "download_root = \"https://spamassassin.apache.org/old/publiccorpus/\"\n",
    "file_names = [\"20030228_easy_ham.tar.bz2\", \"20030228_easy_ham_2.tar.bz2\",\n",
    "              \"20030228_hard_ham.tar.bz2\", \"20030228_spam.tar.bz2\",\n",
    "              \"20030228_spam_2.tar.bz2\"]\n",
    "store_path = os.path.join(\"data\")"
   ]
  },
  {
   "cell_type": "code",
   "execution_count": 2,
   "metadata": {
    "colab": {},
    "colab_type": "code",
    "executionInfo": {
     "elapsed": 1912,
     "status": "ok",
     "timestamp": 1597025596496,
     "user": {
      "displayName": "洪培翊",
      "photoUrl": "",
      "userId": "11336533706330979787"
     },
     "user_tz": -480
    },
    "id": "n5AE0boIChOE"
   },
   "outputs": [],
   "source": [
    "def fetch_data(root_url=download_root, file_names=file_names,\n",
    "               store_path=store_path):\n",
    "    \n",
    "    # make directory storing emails\n",
    "    os.makedirs(store_path, exist_ok=True)\n",
    "    \n",
    "    # download files \n",
    "    for file in file_names:\n",
    "        file_url = os.path.join(download_root, file)\n",
    "        path = os.path.join(store_path, file)\n",
    "        urllib.request.urlretrieve(file_url, path)\n",
    "    \n",
    "    # extract emails\n",
    "    for file in file_names:\n",
    "        path = os.path.join(store_path, file)\n",
    "        with tarfile.open(path, 'r') as f:\n",
    "            f.extractall(path=store_path)"
   ]
  },
  {
   "cell_type": "markdown",
   "metadata": {
    "colab_type": "text",
    "id": "cHhCGofDChOK"
   },
   "source": [
    "## Parse emails"
   ]
  },
  {
   "cell_type": "code",
   "execution_count": 3,
   "metadata": {
    "colab": {},
    "colab_type": "code",
    "executionInfo": {
     "elapsed": 31296,
     "status": "ok",
     "timestamp": 1597025625883,
     "user": {
      "displayName": "洪培翊",
      "photoUrl": "",
      "userId": "11336533706330979787"
     },
     "user_tz": -480
    },
    "id": "KAY5kkeSChOM"
   },
   "outputs": [],
   "source": [
    "# get file names of emails\n",
    "email_folders = [\"hard_ham\", \"easy_ham\", \"easy_ham_2\", \n",
    "                 \"spam\", \"spam_2\"]\n",
    "ham_names = {}\n",
    "for ham in email_folders[:3]:\n",
    "    ham_path = os.path.join(store_path, ham)\n",
    "    names = [name for name in sorted(os.listdir(ham_path)) if len(name) > 20]\n",
    "    ham_names[ham] = names\n",
    "    \n",
    "spam_names = {}\n",
    "for spam in email_folders[3:]:\n",
    "    spam_path = os.path.join(store_path, spam)\n",
    "    names = [name for name in sorted(os.listdir(spam_path)) if len(name) > 20]\n",
    "    spam_names[spam] = names\n",
    "\n",
    "# parse emails\n",
    "import email\n",
    "import email.policy\n",
    "\n",
    "def load_email(directory, filename, spam_path=store_path):\n",
    "    path = os.path.join(spam_path, directory)\n",
    "    with open(os.path.join(path, filename), \"rb\") as f:\n",
    "        return email.parser.BytesParser(policy=email.policy.default).parse(f)\n",
    "hams = []\n",
    "for ham in email_folders[:3]:\n",
    "    emails = [load_email(ham, filename=name) for name in ham_names[ham]]\n",
    "    hams.extend(emails)\n",
    "spams = []\n",
    "for spam in email_folders[3:]:\n",
    "    emails = [load_email(spam, filename=name) for name in spam_names[spam]]\n",
    "    spams.extend(emails)"
   ]
  },
  {
   "cell_type": "code",
   "execution_count": 4,
   "metadata": {
    "colab": {
     "base_uri": "https://localhost:8080/",
     "height": 54
    },
    "colab_type": "code",
    "executionInfo": {
     "elapsed": 31289,
     "status": "ok",
     "timestamp": 1597025625885,
     "user": {
      "displayName": "洪培翊",
      "photoUrl": "",
      "userId": "11336533706330979787"
     },
     "user_tz": -480
    },
    "id": "zHYis4K1ChOR",
    "outputId": "d26d982f-fe86-445d-cca4-9c56c5991cf8"
   },
   "outputs": [
    {
     "data": {
      "text/plain": [
       "(4150, 1897, 0.31370927732760046)"
      ]
     },
     "execution_count": 4,
     "metadata": {},
     "output_type": "execute_result"
    }
   ],
   "source": [
    "len(hams), len(spams), len(spams) / (len(hams) + len(spams))"
   ]
  },
  {
   "cell_type": "markdown",
   "metadata": {
    "colab_type": "text",
    "id": "usYJ4ksmChOX"
   },
   "source": [
    "Accuracy of random guess is 70%, so we must do better than that."
   ]
  },
  {
   "cell_type": "markdown",
   "metadata": {
    "colab_type": "text",
    "id": "nBOi4vYKChOY"
   },
   "source": [
    "# Take a look at the emails"
   ]
  },
  {
   "cell_type": "markdown",
   "metadata": {
    "colab_type": "text",
    "id": "feDh6cSJChOY"
   },
   "source": [
    "**headers**"
   ]
  },
  {
   "cell_type": "code",
   "execution_count": 5,
   "metadata": {
    "colab": {
     "base_uri": "https://localhost:8080/",
     "height": 360
    },
    "colab_type": "code",
    "executionInfo": {
     "elapsed": 31287,
     "status": "ok",
     "timestamp": 1597025625886,
     "user": {
      "displayName": "洪培翊",
      "photoUrl": "",
      "userId": "11336533706330979787"
     },
     "user_tz": -480
    },
    "id": "kN_1KCFuChOY",
    "outputId": "baa0d8a5-e980-4e3d-8ebd-690698848696"
   },
   "outputs": [
    {
     "data": {
      "text/plain": [
       "[('Return-Path', '<malcolm-sweeps@mrichi.com>'),\n",
       " ('Delivered-To', 'rod@arsecandle.org'),\n",
       " ('Received', '(qmail 16821 invoked by uid 505); 7 May 2002 14:37:01 -0000'),\n",
       " ('Received',\n",
       "  'from malcolm-sweeps@mrichi.com by blazing.arsecandle.org\\t by uid 500 with qmail-scanner-1.10 (F-PROT: 3.12. Clear:0. Processed in 0.260914 secs); 07 May 2002 14:37:01 -0000'),\n",
       " ('Delivered-To', 'rod-3ds@arsecandle.org'),\n",
       " ('Received', '(qmail 16811 invoked by uid 505); 7 May 2002 14:37:00 -0000'),\n",
       " ('Received',\n",
       "  'from malcolm-sweeps@mrichi.com by blazing.arsecandle.org\\t by uid 502 with qmail-scanner-1.10 (F-PROT: 3.12. Clear:0. Processed in 0.250416 secs); 07 May 2002 14:37:00 -0000'),\n",
       " ('Received',\n",
       "  'from bocelli.siteprotect.com (64.41.120.21)  by h0090272a42db.ne.client2.attbi.com with SMTP; 7 May 2002 14:36:59 -0000'),\n",
       " ('Received',\n",
       "  'from mail.mrichi.com ([208.33.95.187])\\tby bocelli.siteprotect.com (8.9.3/8.9.3) with SMTP id JAA14328;\\tTue, 7 May 2002 09:37:01 -0500'),\n",
       " ('From', 'malcolm-sweeps@mrichi.com'),\n",
       " ('Message-Id', '<200205071437.JAA14328@bocelli.siteprotect.com>'),\n",
       " ('To', 'rod-3ds@arsecandle.org'),\n",
       " ('Subject', 'Malcolm in the Middle Sweepstakes Prize Notification'),\n",
       " ('Date', 'Tue, 07 May 2002 09:38:27 -0600'),\n",
       " ('X-Mailer', 'sendEmail-v1.33')]"
      ]
     },
     "execution_count": 5,
     "metadata": {},
     "output_type": "execute_result"
    }
   ],
   "source": [
    "hams[1].items()"
   ]
  },
  {
   "cell_type": "code",
   "execution_count": 6,
   "metadata": {
    "colab": {
     "base_uri": "https://localhost:8080/",
     "height": 37
    },
    "colab_type": "code",
    "executionInfo": {
     "elapsed": 31284,
     "status": "ok",
     "timestamp": 1597025625886,
     "user": {
      "displayName": "洪培翊",
      "photoUrl": "",
      "userId": "11336533706330979787"
     },
     "user_tz": -480
    },
    "id": "1zvKwDL_ChOc",
    "outputId": "011ec35a-fd27-44d0-89fb-57dc70a1e6f8"
   },
   "outputs": [
    {
     "data": {
      "text/plain": [
       "'Malcolm in the Middle Sweepstakes Prize Notification'"
      ]
     },
     "execution_count": 6,
     "metadata": {},
     "output_type": "execute_result"
    }
   ],
   "source": [
    "hams[1][\"Subject\"]"
   ]
  },
  {
   "cell_type": "markdown",
   "metadata": {
    "colab_type": "text",
    "id": "3UL27ZtnChOe"
   },
   "source": [
    "**Contents**"
   ]
  },
  {
   "cell_type": "code",
   "execution_count": 7,
   "metadata": {
    "colab": {
     "base_uri": "https://localhost:8080/",
     "height": 340
    },
    "colab_type": "code",
    "executionInfo": {
     "elapsed": 31283,
     "status": "ok",
     "timestamp": 1597025625887,
     "user": {
      "displayName": "洪培翊",
      "photoUrl": "",
      "userId": "11336533706330979787"
     },
     "user_tz": -480
    },
    "id": "V2GUOr67ChOe",
    "outputId": "2029d602-8b72-4a08-9b55-198be04aa324",
    "scrolled": true
   },
   "outputs": [
    {
     "name": "stdout",
     "output_type": "stream",
     "text": [
      "May 7, 2002\n",
      "\n",
      "\n",
      "Dear rod-3ds@arsecandle.org:\n",
      "\n",
      "\n",
      "Congratulations!  On behalf of Frito-Lay, Inc., we are pleased to advise you\n",
      " that you've won Fourth Prize in the 3D's(R) Malcolm in the Middle(TM)\n",
      " Sweepstakes.   Fourth Prize consists of 1 manufacturer's coupon redeemable at\n",
      " participating retailers for 1 free bag of 3D's(R) brand snacks (up to 7 oz.\n",
      " size), with an approximate retail value of $2.59 and an expiration date of\n",
      " 12/31/02.\n",
      "\n",
      "Follow these instructions to claim your prize:\n",
      "\n",
      "1.\tPrint out this email message.\n",
      "\n",
      "2.\tComplete ALL of the information requested.  Print clearly and legibly.  Sign\n",
      " \n"
     ]
    }
   ],
   "source": [
    "print(hams[1].get_content()[:600])"
   ]
  },
  {
   "cell_type": "markdown",
   "metadata": {
    "colab_type": "text",
    "id": "EWbtApIwChOg"
   },
   "source": [
    "## Get email structure"
   ]
  },
  {
   "cell_type": "markdown",
   "metadata": {
    "colab_type": "text",
    "id": "pt9VKPLyChOg"
   },
   "source": [
    "There are some emails that have multiple parts."
   ]
  },
  {
   "cell_type": "code",
   "execution_count": 8,
   "metadata": {
    "colab": {
     "base_uri": "https://localhost:8080/",
     "height": 51
    },
    "colab_type": "code",
    "executionInfo": {
     "elapsed": 31280,
     "status": "ok",
     "timestamp": 1597025625887,
     "user": {
      "displayName": "洪培翊",
      "photoUrl": "",
      "userId": "11336533706330979787"
     },
     "user_tz": -480
    },
    "id": "Q6BO8Q1XChOh",
    "outputId": "dff95408-6231-4129-9d05-32d1c979a543"
   },
   "outputs": [
    {
     "data": {
      "text/plain": [
       "[<email.message.EmailMessage at 0x7fca76ed4e50>,\n",
       " <email.message.EmailMessage at 0x7fca76ea4690>]"
      ]
     },
     "execution_count": 8,
     "metadata": {},
     "output_type": "execute_result"
    }
   ],
   "source": [
    "hams[7].get_payload()"
   ]
  },
  {
   "cell_type": "code",
   "execution_count": 9,
   "metadata": {
    "colab": {},
    "colab_type": "code",
    "executionInfo": {
     "elapsed": 31279,
     "status": "ok",
     "timestamp": 1597025625887,
     "user": {
      "displayName": "洪培翊",
      "photoUrl": "",
      "userId": "11336533706330979787"
     },
     "user_tz": -480
    },
    "id": "chGNMzwfChOj"
   },
   "outputs": [],
   "source": [
    "from collections import Counter \n",
    "\n",
    "def get_email_structure(email):\n",
    "    if isinstance(email, str):\n",
    "        return email\n",
    "    payload = email.get_payload()\n",
    "    if isinstance(payload, list):\n",
    "        return \"multipart({})\".format(\", \".join([\n",
    "            get_email_structure(sub_email)\n",
    "            for sub_email in payload\n",
    "        ]))\n",
    "    else:\n",
    "        return email.get_content_type()\n",
    "\n",
    "def structure_counter(emails):\n",
    "    structures = [get_email_structure(email) for email in emails]\n",
    "    return Counter(structures)"
   ]
  },
  {
   "cell_type": "code",
   "execution_count": 10,
   "metadata": {
    "colab": {
     "base_uri": "https://localhost:8080/",
     "height": 581
    },
    "colab_type": "code",
    "executionInfo": {
     "elapsed": 31869,
     "status": "ok",
     "timestamp": 1597025626480,
     "user": {
      "displayName": "洪培翊",
      "photoUrl": "",
      "userId": "11336533706330979787"
     },
     "user_tz": -480
    },
    "id": "5vZJx0-bChOl",
    "outputId": "82de1007-9d00-419a-ed6b-721f135b33ef",
    "scrolled": false
   },
   "outputs": [
    {
     "data": {
      "text/plain": [
       "[('text/plain', 3832),\n",
       " ('text/html', 120),\n",
       " ('multipart(text/plain, application/pgp-signature)', 101),\n",
       " ('multipart(text/plain, text/html)', 63),\n",
       " ('multipart(text/plain, text/plain)', 5),\n",
       " ('multipart(text/plain)', 3),\n",
       " ('multipart(text/plain, application/x-pkcs7-signature)', 2),\n",
       " ('multipart(text/html)', 2),\n",
       " ('multipart(text/plain, application/ms-tnef, text/plain)', 2),\n",
       " ('multipart(text/plain, application/octet-stream)', 2),\n",
       " ('multipart(text/plain, multipart(text/plain))', 2),\n",
       " ('multipart(text/plain, multipart(text/plain, text/plain), text/rfc822-headers)',\n",
       "  2),\n",
       " ('multipart(text/plain, image/bmp)', 1),\n",
       " ('multipart(multipart(text/plain, text/html))', 1),\n",
       " ('multipart(text/plain, image/png, image/png)', 1),\n",
       " ('multipart(multipart(text/plain, text/html), image/gif, image/gif, image/gif, image/gif, image/gif, image/gif, image/gif, image/gif, image/gif, image/gif, image/gif, image/jpeg, image/gif, image/gif, image/gif, image/gif, image/gif, image/gif)',\n",
       "  1),\n",
       " ('multipart(text/plain, text/enriched)', 1),\n",
       " ('multipart(multipart(text/plain, text/plain, text/plain), application/pgp-signature)',\n",
       "  1),\n",
       " ('multipart(text/plain, video/mng)', 1),\n",
       " ('multipart(text/plain, multipart(text/plain, text/plain), multipart(multipart(text/plain, application/x-pkcs7-signature)))',\n",
       "  1),\n",
       " ('multipart(text/plain, application/x-java-applet)', 1),\n",
       " ('multipart(text/plain, application/x-patch)', 1),\n",
       " ('multipart(multipart(text/plain, multipart(text/plain), text/plain), application/pgp-signature)',\n",
       "  1),\n",
       " ('multipart(multipart(text/plain, text/html), image/jpeg, image/gif, image/gif, image/gif, image/gif)',\n",
       "  1),\n",
       " ('multipart(text/plain, application/ms-tnef)', 1),\n",
       " ('multipart(text/plain, text/plain, text/plain)', 1)]"
      ]
     },
     "execution_count": 10,
     "metadata": {},
     "output_type": "execute_result"
    }
   ],
   "source": [
    "structure_counter(hams).most_common()"
   ]
  },
  {
   "cell_type": "code",
   "execution_count": 11,
   "metadata": {
    "colab": {
     "base_uri": "https://localhost:8080/",
     "height": 476
    },
    "colab_type": "code",
    "executionInfo": {
     "elapsed": 34753,
     "status": "ok",
     "timestamp": 1597025629367,
     "user": {
      "displayName": "洪培翊",
      "photoUrl": "",
      "userId": "11336533706330979787"
     },
     "user_tz": -480
    },
    "id": "YRFx4qS2ChOm",
    "outputId": "43c19c9c-05a0-4c22-c3cb-19b6d6bd180b"
   },
   "outputs": [
    {
     "data": {
      "text/plain": [
       "[('text/plain', 816),\n",
       " ('text/html', 772),\n",
       " ('multipart(text/plain, text/html)', 159),\n",
       " ('multipart(text/html)', 49),\n",
       " ('multipart(text/plain)', 44),\n",
       " ('multipart(multipart(text/html))', 23),\n",
       " ('multipart(multipart(text/plain, text/html))', 5),\n",
       " ('multipart(text/plain, application/octet-stream)', 3),\n",
       " ('multipart(text/html, text/plain)', 3),\n",
       " ('multipart(text/plain, image/jpeg)', 3),\n",
       " ('multipart(text/plain, application/octet-stream, text/plain)', 3),\n",
       " ('multipart(text/html, application/octet-stream)', 2),\n",
       " ('multipart/alternative', 2),\n",
       " ('multipart(text/html, image/jpeg)', 2),\n",
       " ('multipart(multipart(text/plain), application/octet-stream)', 2),\n",
       " ('multipart(multipart(text/html), application/octet-stream, image/jpeg)', 1),\n",
       " ('multipart(multipart(text/plain, text/html), image/gif)', 1),\n",
       " ('multipart(text/plain, multipart(text/plain))', 1),\n",
       " ('multipart(multipart(text/plain, text/html), image/jpeg, image/jpeg, image/jpeg, image/jpeg, image/jpeg)',\n",
       "  1),\n",
       " ('multipart(multipart(text/plain, text/html), image/jpeg, image/jpeg, image/jpeg, image/jpeg, image/gif)',\n",
       "  1),\n",
       " ('text/plain charset=us-ascii', 1),\n",
       " ('multipart(multipart(text/html), image/gif)', 1),\n",
       " ('multipart(multipart(text/plain, text/html), application/octet-stream, application/octet-stream, application/octet-stream, application/octet-stream)',\n",
       "  1),\n",
       " ('multipart(multipart(text/plain, text/html), image/gif, image/jpeg)', 1)]"
      ]
     },
     "execution_count": 11,
     "metadata": {},
     "output_type": "execute_result"
    }
   ],
   "source": [
    "structure_counter(spams).most_common()"
   ]
  },
  {
   "cell_type": "markdown",
   "metadata": {
    "colab_type": "text",
    "id": "ANV6BRLFChOo"
   },
   "source": [
    "It seems that most hams are plain text, while spams are more often html."
   ]
  },
  {
   "cell_type": "markdown",
   "metadata": {
    "colab_type": "text",
    "id": "nPYK1xCWChOo"
   },
   "source": [
    "## Split emails into train and test set"
   ]
  },
  {
   "cell_type": "code",
   "execution_count": 12,
   "metadata": {
    "colab": {},
    "colab_type": "code",
    "executionInfo": {
     "elapsed": 34753,
     "status": "ok",
     "timestamp": 1597025629368,
     "user": {
      "displayName": "洪培翊",
      "photoUrl": "",
      "userId": "11336533706330979787"
     },
     "user_tz": -480
    },
    "id": "u-JPI8HUChOp"
   },
   "outputs": [],
   "source": [
    "import numpy as np\n",
    "import pandas as pd \n",
    "from sklearn.model_selection import train_test_split"
   ]
  },
  {
   "cell_type": "code",
   "execution_count": 13,
   "metadata": {
    "colab": {},
    "colab_type": "code",
    "executionInfo": {
     "elapsed": 34752,
     "status": "ok",
     "timestamp": 1597025629368,
     "user": {
      "displayName": "洪培翊",
      "photoUrl": "",
      "userId": "11336533706330979787"
     },
     "user_tz": -480
    },
    "id": "YTQJy_ZZChOs"
   },
   "outputs": [],
   "source": [
    "X = np.array(hams+spams)\n",
    "y = np.array([0] * len(hams) + [1] * len(spams))"
   ]
  },
  {
   "cell_type": "code",
   "execution_count": 14,
   "metadata": {
    "colab": {},
    "colab_type": "code",
    "executionInfo": {
     "elapsed": 34752,
     "status": "ok",
     "timestamp": 1597025629369,
     "user": {
      "displayName": "洪培翊",
      "photoUrl": "",
      "userId": "11336533706330979787"
     },
     "user_tz": -480
    },
    "id": "SZ2n2mCKChOt"
   },
   "outputs": [],
   "source": [
    "X_train, X_test, y_train, y_test = train_test_split(X, y, test_size=0.2, \n",
    "                                                    random_state=44, \n",
    "                                                    stratify=y)"
   ]
  },
  {
   "cell_type": "code",
   "execution_count": 15,
   "metadata": {
    "colab": {
     "base_uri": "https://localhost:8080/",
     "height": 54
    },
    "colab_type": "code",
    "executionInfo": {
     "elapsed": 34750,
     "status": "ok",
     "timestamp": 1597025629369,
     "user": {
      "displayName": "洪培翊",
      "photoUrl": "",
      "userId": "11336533706330979787"
     },
     "user_tz": -480
    },
    "id": "6PT1l5y2ChOv",
    "outputId": "63923957-4bee-4993-d29e-79eecf4dd600"
   },
   "outputs": [
    {
     "data": {
      "text/plain": [
       "((4837,), (1210,))"
      ]
     },
     "execution_count": 15,
     "metadata": {},
     "output_type": "execute_result"
    }
   ],
   "source": [
    "X_train.shape, X_test.shape"
   ]
  },
  {
   "cell_type": "markdown",
   "metadata": {
    "colab_type": "text",
    "id": "ZDKGHouIChOw"
   },
   "source": [
    "# Preprocessing emails"
   ]
  },
  {
   "cell_type": "markdown",
   "metadata": {
    "colab_type": "text",
    "id": "2YqHdN6VChOw"
   },
   "source": [
    "## Email to text"
   ]
  },
  {
   "cell_type": "markdown",
   "metadata": {
    "colab_type": "text",
    "id": "w7rLc6wjChOx"
   },
   "source": [
    "**Parse HTML**"
   ]
  },
  {
   "cell_type": "code",
   "execution_count": 16,
   "metadata": {
    "colab": {},
    "colab_type": "code",
    "executionInfo": {
     "elapsed": 34749,
     "status": "ok",
     "timestamp": 1597025629370,
     "user": {
      "displayName": "洪培翊",
      "photoUrl": "",
      "userId": "11336533706330979787"
     },
     "user_tz": -480
    },
    "id": "bK1OJwARChOx"
   },
   "outputs": [],
   "source": [
    "from bs4 import BeautifulSoup\n",
    "\n",
    "def html_to_plain_text(html):\n",
    "    soup = BeautifulSoup(html, \"lxml\")\n",
    "    strings = \"\"\n",
    "    for i in soup.find_all():\n",
    "        if i.string:\n",
    "            strings += i.string + \"\\n\"\n",
    "    return strings"
   ]
  },
  {
   "cell_type": "markdown",
   "metadata": {
    "colab_type": "text",
    "id": "82KdmSH1ChOy"
   },
   "source": [
    "**Turn email to plain text**"
   ]
  },
  {
   "cell_type": "code",
   "execution_count": 17,
   "metadata": {
    "colab": {},
    "colab_type": "code",
    "executionInfo": {
     "elapsed": 34748,
     "status": "ok",
     "timestamp": 1597025629370,
     "user": {
      "displayName": "洪培翊",
      "photoUrl": "",
      "userId": "11336533706330979787"
     },
     "user_tz": -480
    },
    "id": "sYsHO4qMChOz"
   },
   "outputs": [],
   "source": [
    "def email_to_text(email):\n",
    "    html = None\n",
    "    for part in email.walk():\n",
    "        ctype = part.get_content_type()\n",
    "        if not ctype in (\"text/plain\", \"text/html\"):\n",
    "            continue\n",
    "        try:\n",
    "            content = part.get_content()\n",
    "        except: # in case of encoding issues\n",
    "            content = str(part.get_payload())\n",
    "        if ctype == \"text/plain\":\n",
    "            return content\n",
    "        else:\n",
    "            html = content\n",
    "    if html:\n",
    "        return html_to_plain_text(html)"
   ]
  },
  {
   "cell_type": "code",
   "execution_count": 18,
   "metadata": {
    "colab": {
     "base_uri": "https://localhost:8080/",
     "height": 510
    },
    "colab_type": "code",
    "executionInfo": {
     "elapsed": 34746,
     "status": "ok",
     "timestamp": 1597025629370,
     "user": {
      "displayName": "洪培翊",
      "photoUrl": "",
      "userId": "11336533706330979787"
     },
     "user_tz": -480
    },
    "id": "6Syq36KcChO1",
    "outputId": "92523220-400c-4d3d-874f-2733c292c087",
    "scrolled": false
   },
   "outputs": [
    {
     "name": "stdout",
     "output_type": "stream",
     "text": [
      "Cellular Phone Accessories All At Below Wholesale Prices!\n",
      "\n",
      "http://202.101.163.34:81/sites/merchant/sales/\n",
      "\n",
      "Hands Free Ear Buds 1.99! \n",
      "Phone Holsters 1.98! \n",
      "Booster Antennas Only $0.99\n",
      "Phone Cases 1.98! \n",
      "Car Chargers 1.98! \n",
      "Face Plates As Low As 0.99! \n",
      "Lithium Ion Batteries As Low As 6.94! \n",
      "\n",
      "http://202.101.163.34:81/sites/merchant/sales/\n",
      "\n",
      "Click Below For Accessories On All NOKIA, MOTOROLA LG, NEXTEL, \n",
      "SAMSUNG, QUALCOMM, ERICSSON, AUDIOVOX PHONES At Below \n",
      "WHOLESALE PRICES!\n",
      "\n",
      "http://202.101.163.34:81/sites/merchant/sales/\n",
      "\n",
      "***If You Need Assistance Please Call Us (732) 751-1457***\n",
      "\n",
      "\n",
      "~~~~~~~~~~~~~~~~~~~~~~~~~~~~~~~~\n",
      "To be removed from future mailings please send your remove \n",
      "request to: removemenow68994@btamail.net.cn \n",
      "Thank You and have a super day :)\n",
      "\n",
      "\n"
     ]
    }
   ],
   "source": [
    "example_spam = email_to_text(spams[10])\n",
    "print(example_spam)"
   ]
  },
  {
   "cell_type": "markdown",
   "metadata": {
    "colab_type": "text",
    "id": "xItGLOX6ChO3"
   },
   "source": [
    "## Replace url with \"URL\""
   ]
  },
  {
   "cell_type": "code",
   "execution_count": 19,
   "metadata": {
    "colab": {
     "base_uri": "https://localhost:8080/",
     "height": 1000
    },
    "colab_type": "code",
    "executionInfo": {
     "elapsed": 34744,
     "status": "ok",
     "timestamp": 1597025629371,
     "user": {
      "displayName": "洪培翊",
      "photoUrl": "",
      "userId": "11336533706330979787"
     },
     "user_tz": -480
    },
    "id": "mfANtgNrChO4",
    "outputId": "dd0ce864-f2a5-4def-ca26-d9b23e71a839"
   },
   "outputs": [
    {
     "data": {
      "text/plain": [
       "'Cellular Phone Accessories All At Below Wholesale Prices!\\n\\nhttp://202.101.163.34:81/sites/merchant/sales/\\n\\nHands Free Ear Buds 1.99! \\nPhone Holsters 1.98! \\nBooster Antennas Only $0.99\\nPhone Cases 1.98! \\nCar Chargers 1.98! \\nFace Plates As Low As 0.99! \\nLithium Ion Batteries As Low As 6.94! \\n\\nhttp://202.101.163.34:81/sites/merchant/sales/\\n\\nClick Below For Accessories On All NOKIA, MOTOROLA LG, NEXTEL, \\nSAMSUNG, QUALCOMM, ERICSSON, AUDIOVOX PHONES At Below \\nWHOLESALE PRICES!\\n\\nhttp://202.101.163.34:81/sites/merchant/sales/\\n\\n***If You Need Assistance Please Call Us (732) 751-1457***\\n\\n\\n~~~~~~~~~~~~~~~~~~~~~~~~~~~~~~~~\\nTo be removed from future mailings please send your remove \\nrequest to: removemenow68994@btamail.net.cn \\nThank You and have a super day :)\\n\\n'"
      ]
     },
     "execution_count": 19,
     "metadata": {},
     "output_type": "execute_result"
    }
   ],
   "source": [
    "example_spam"
   ]
  },
  {
   "cell_type": "code",
   "execution_count": 20,
   "metadata": {
    "colab": {
     "base_uri": "https://localhost:8080/",
     "height": 1000
    },
    "colab_type": "code",
    "executionInfo": {
     "elapsed": 34741,
     "status": "ok",
     "timestamp": 1597025629371,
     "user": {
      "displayName": "洪培翊",
      "photoUrl": "",
      "userId": "11336533706330979787"
     },
     "user_tz": -480
    },
    "id": "RCOXn7r3ChO6",
    "outputId": "280cbcc1-2281-4db3-8639-ac45d53ae190"
   },
   "outputs": [
    {
     "data": {
      "text/plain": [
       "'Cellular Phone Accessories All At Below Wholesale Prices!\\n\\nURL\\n\\nHands Free Ear Buds 1.99! \\nPhone Holsters 1.98! \\nBooster Antennas Only $0.99\\nPhone Cases 1.98! \\nCar Chargers 1.98! \\nFace Plates As Low As 0.99! \\nLithium Ion Batteries As Low As 6.94! \\n\\nURL\\n\\nClick Below For Accessories On All NOKIA, MOTOROLA LG, NEXTEL, \\nSAMSUNG, QUALCOMM, ERICSSON, AUDIOVOX PHONES At Below \\nWHOLESALE PRICES!\\n\\nURL\\n\\n***If You Need Assistance Please Call Us (732) 751-1457***\\n\\n\\n~~~~~~~~~~~~~~~~~~~~~~~~~~~~~~~~\\nTo be removed from future mailings please send your remove \\nrequest to: removemenow68994@btamail.net.cn \\nThank You and have a super day :)\\n\\n'"
      ]
     },
     "execution_count": 20,
     "metadata": {},
     "output_type": "execute_result"
    }
   ],
   "source": [
    "import re\n",
    "url_pattern = 'http[s]?://(?:[a-zA-Z]|[0-9]|[$-_@.&+]|[!*\\(\\),]|(?:%[0-9a-fA-F][0-9a-fA-F]))+'\n",
    "example_spam = re.sub(url_pattern, \"URL\", example_spam)\n",
    "example_spam"
   ]
  },
  {
   "cell_type": "markdown",
   "metadata": {
    "colab_type": "text",
    "id": "COK-uIqkChO7"
   },
   "source": [
    "## Tokenize"
   ]
  },
  {
   "cell_type": "code",
   "execution_count": 21,
   "metadata": {
    "colab": {
     "base_uri": "https://localhost:8080/",
     "height": 71
    },
    "colab_type": "code",
    "executionInfo": {
     "elapsed": 34738,
     "status": "ok",
     "timestamp": 1597025629371,
     "user": {
      "displayName": "洪培翊",
      "photoUrl": "",
      "userId": "11336533706330979787"
     },
     "user_tz": -480
    },
    "id": "5A_u2OAAChO8",
    "outputId": "aa2a9c1c-fa61-4d23-d8bb-634f0eb36cb4"
   },
   "outputs": [
    {
     "name": "stderr",
     "output_type": "stream",
     "text": [
      "[nltk_data] Downloading package punkt to /Users/hongpeiyi/nltk_data...\n",
      "[nltk_data]   Package punkt is already up-to-date!\n"
     ]
    }
   ],
   "source": [
    "import nltk\n",
    "nltk.download('punkt')\n",
    "from nltk.tokenize import word_tokenize"
   ]
  },
  {
   "cell_type": "code",
   "execution_count": 22,
   "metadata": {
    "colab": {
     "base_uri": "https://localhost:8080/",
     "height": 207
    },
    "colab_type": "code",
    "executionInfo": {
     "elapsed": 34736,
     "status": "ok",
     "timestamp": 1597025629372,
     "user": {
      "displayName": "洪培翊",
      "photoUrl": "",
      "userId": "11336533706330979787"
     },
     "user_tz": -480
    },
    "id": "OmuMUAJVChO9",
    "outputId": "69f3ceb1-fe78-4779-9c7f-45d97d8a8c42"
   },
   "outputs": [
    {
     "data": {
      "text/plain": [
       "['Cellular',\n",
       " 'Phone',\n",
       " 'Accessories',\n",
       " 'All',\n",
       " 'At',\n",
       " 'Below',\n",
       " 'Wholesale',\n",
       " 'Prices',\n",
       " '!',\n",
       " 'URL']"
      ]
     },
     "execution_count": 22,
     "metadata": {},
     "output_type": "execute_result"
    }
   ],
   "source": [
    "example_spam_tokenized = word_tokenize(example_spam)\n",
    "example_spam_tokenized[:10]"
   ]
  },
  {
   "cell_type": "markdown",
   "metadata": {
    "colab_type": "text",
    "id": "wMXybZj0ChO-"
   },
   "source": [
    "## Stemming"
   ]
  },
  {
   "cell_type": "code",
   "execution_count": 24,
   "metadata": {
    "colab": {},
    "colab_type": "code",
    "executionInfo": {
     "elapsed": 34735,
     "status": "ok",
     "timestamp": 1597025629373,
     "user": {
      "displayName": "洪培翊",
      "photoUrl": "",
      "userId": "11336533706330979787"
     },
     "user_tz": -480
    },
    "id": "cgstbEZmChPA"
   },
   "outputs": [],
   "source": [
    "def stemming_email(tokenized_email):\n",
    "    stemmer = nltk.PorterStemmer()\n",
    "    stemmed_words = [stemmer.stem(word) for word in tokenized_email]\n",
    "    return \" \".join(stemmed_words)"
   ]
  },
  {
   "cell_type": "code",
   "execution_count": 25,
   "metadata": {
    "colab": {
     "base_uri": "https://localhost:8080/",
     "height": 1000
    },
    "colab_type": "code",
    "executionInfo": {
     "elapsed": 34732,
     "status": "ok",
     "timestamp": 1597025629373,
     "user": {
      "displayName": "洪培翊",
      "photoUrl": "",
      "userId": "11336533706330979787"
     },
     "user_tz": -480
    },
    "id": "Ku9O-aP8ChPB",
    "outputId": "ffbd66f2-ad31-4e51-be21-350f63f5f325",
    "scrolled": false
   },
   "outputs": [
    {
     "data": {
      "text/plain": [
       "'cellular phone accessori all At below wholesal price ! url hand free ear bud 1.99 ! phone holster 1.98 ! booster antenna onli $ 0.99 phone case 1.98 ! car charger 1.98 ! face plate As low As 0.99 ! lithium ion batteri As low As 6.94 ! url click below for accessori On all nokia , motorola LG , nextel , samsung , qualcomm , ericsson , audiovox phone At below wholesal price ! url ***if you need assist pleas call Us ( 732 ) 751-1457*** ~~~~~~~~~~~~~~~~~~~~~~~~~~~~~~~~ To be remov from futur mail pleas send your remov request to : removemenow68994 @ btamail.net.cn thank you and have a super day : )'"
      ]
     },
     "execution_count": 25,
     "metadata": {},
     "output_type": "execute_result"
    }
   ],
   "source": [
    "stemmed_eamil = stemming_email(example_spam_tokenized)\n",
    "stemmed_eamil"
   ]
  },
  {
   "cell_type": "markdown",
   "metadata": {
    "colab_type": "text",
    "id": "xM-l289RChPD"
   },
   "source": [
    "## Write a sklearn estimator to transform our email"
   ]
  },
  {
   "cell_type": "code",
   "execution_count": 26,
   "metadata": {
    "colab": {},
    "colab_type": "code",
    "executionInfo": {
     "elapsed": 34731,
     "status": "ok",
     "timestamp": 1597025629373,
     "user": {
      "displayName": "洪培翊",
      "photoUrl": "",
      "userId": "11336533706330979787"
     },
     "user_tz": -480
    },
    "id": "_q1l6T9_ChPD"
   },
   "outputs": [],
   "source": [
    "from sklearn.base import BaseEstimator, TransformerMixin\n",
    "\n",
    "class EmailToTokenizedStemmed(BaseEstimator, TransformerMixin):\n",
    "    def __init__(self, strip_headers=True, lower_case=True, remove_punctuation=True,\n",
    "                 replace_urls=True, replace_numbers=True, stemming=True):\n",
    "        self.strip_headers = strip_headers\n",
    "        self.lower_case = lower_case\n",
    "        self.remove_punctuation = remove_punctuation\n",
    "        self.replace_urls = replace_urls\n",
    "        self.replace_numbers = replace_numbers\n",
    "        self.stemming = stemming\n",
    "        \n",
    "    def fit(self, X, y=None):\n",
    "        return self\n",
    "    \n",
    "    def transform(self, X, y=None):\n",
    "        X_transformed = []\n",
    "        for email in X:\n",
    "            text = email_to_text(email) or \"\"\n",
    "            if self.lower_case:\n",
    "                text = text.lower()\n",
    "            if self.replace_urls:\n",
    "                url_pattern = 'http[s]?://(?:[a-zA-Z]|[0-9]|[$-_@.&+]|[!*\\(\\),]|(?:%[0-9a-fA-F][0-9a-fA-F]))+'\n",
    "                text = re.sub(url_pattern, \"URL\", text)\n",
    "            if self.replace_numbers:\n",
    "                text = re.sub(r'\\d+(?:\\.\\d*(?:[eE]\\d+))?', 'NUMBER', text)\n",
    "            if self.remove_punctuation:\n",
    "                text = re.sub(r'[^a-zA-Z0-9]+', ' ', text, flags=re.M)\n",
    "            text = word_tokenize(text)\n",
    "            text = stemming_email(text)\n",
    "            X_transformed.append(text)\n",
    "        return np.array(X_transformed)"
   ]
  },
  {
   "cell_type": "markdown",
   "metadata": {
    "colab_type": "text",
    "id": "weWoT6vzChPE"
   },
   "source": [
    "## Count words"
   ]
  },
  {
   "cell_type": "code",
   "execution_count": 27,
   "metadata": {
    "colab": {},
    "colab_type": "code",
    "executionInfo": {
     "elapsed": 34730,
     "status": "ok",
     "timestamp": 1597025629373,
     "user": {
      "displayName": "洪培翊",
      "photoUrl": "",
      "userId": "11336533706330979787"
     },
     "user_tz": -480
    },
    "id": "sLnGqXczChPE"
   },
   "outputs": [],
   "source": [
    "from sklearn.feature_extraction.text import CountVectorizer, TfidfVectorizer"
   ]
  },
  {
   "cell_type": "markdown",
   "metadata": {
    "colab_type": "text",
    "id": "YKz2mQlnChPF"
   },
   "source": [
    "## Make Pipeline"
   ]
  },
  {
   "cell_type": "code",
   "execution_count": 28,
   "metadata": {
    "colab": {},
    "colab_type": "code",
    "executionInfo": {
     "elapsed": 34729,
     "status": "ok",
     "timestamp": 1597025629374,
     "user": {
      "displayName": "洪培翊",
      "photoUrl": "",
      "userId": "11336533706330979787"
     },
     "user_tz": -480
    },
    "id": "rrEGR-nSChPG"
   },
   "outputs": [],
   "source": [
    "from sklearn.pipeline import Pipeline\n",
    "\n",
    "email_pipeline = Pipeline([\n",
    "    (\"Tokenizing and Stemming\", EmailToTokenizedStemmed()),\n",
    "    (\"Count Vectorizing\", CountVectorizer()),\n",
    "    (\"passthrough\", None)\n",
    "])\n",
    "\n",
    "# tf-idf transformation\n",
    "email_pipeline2 = Pipeline([\n",
    "    (\"Tokenizing and Stemming\", EmailToTokenizedStemmed()),\n",
    "    (\"tf-idf Vectorizing\", TfidfVectorizer()),\n",
    "    (\"passthrough\", None)\n",
    "])"
   ]
  },
  {
   "cell_type": "code",
   "execution_count": 29,
   "metadata": {
    "colab": {},
    "colab_type": "code",
    "executionInfo": {
     "elapsed": 78633,
     "status": "ok",
     "timestamp": 1597025673278,
     "user": {
      "displayName": "洪培翊",
      "photoUrl": "",
      "userId": "11336533706330979787"
     },
     "user_tz": -480
    },
    "id": "oc1IIxpKChPH"
   },
   "outputs": [],
   "source": [
    "X_train_processed = email_pipeline2.fit_transform(X_train)"
   ]
  },
  {
   "cell_type": "code",
   "execution_count": 30,
   "metadata": {
    "colab": {},
    "colab_type": "code",
    "executionInfo": {
     "elapsed": 88977,
     "status": "ok",
     "timestamp": 1597025683624,
     "user": {
      "displayName": "洪培翊",
      "photoUrl": "",
      "userId": "11336533706330979787"
     },
     "user_tz": -480
    },
    "id": "m21LDEuWChPI"
   },
   "outputs": [],
   "source": [
    "X_test_processed = email_pipeline2.transform(X_test)"
   ]
  },
  {
   "cell_type": "code",
   "execution_count": 31,
   "metadata": {
    "colab": {
     "base_uri": "https://localhost:8080/",
     "height": 51
    },
    "colab_type": "code",
    "executionInfo": {
     "elapsed": 88974,
     "status": "ok",
     "timestamp": 1597025683626,
     "user": {
      "displayName": "洪培翊",
      "photoUrl": "",
      "userId": "11336533706330979787"
     },
     "user_tz": -480
    },
    "id": "Z3WLz-oSChPJ",
    "outputId": "b3ed4c85-df86-46f3-c462-118e47a2d98a"
   },
   "outputs": [
    {
     "data": {
      "text/plain": [
       "<4837x34009 sparse matrix of type '<class 'numpy.float64'>'\n",
       "\twith 575215 stored elements in Compressed Sparse Row format>"
      ]
     },
     "execution_count": 31,
     "metadata": {},
     "output_type": "execute_result"
    }
   ],
   "source": [
    "X_train_processed"
   ]
  },
  {
   "cell_type": "code",
   "execution_count": 32,
   "metadata": {
    "colab": {
     "base_uri": "https://localhost:8080/",
     "height": 51
    },
    "colab_type": "code",
    "executionInfo": {
     "elapsed": 88967,
     "status": "ok",
     "timestamp": 1597025683627,
     "user": {
      "displayName": "洪培翊",
      "photoUrl": "",
      "userId": "11336533706330979787"
     },
     "user_tz": -480
    },
    "id": "bUguW-a2ChPK",
    "outputId": "65c01c75-d343-4ece-c1bf-d7354f81e7f6"
   },
   "outputs": [
    {
     "data": {
      "text/plain": [
       "<1210x34009 sparse matrix of type '<class 'numpy.float64'>'\n",
       "\twith 135619 stored elements in Compressed Sparse Row format>"
      ]
     },
     "execution_count": 32,
     "metadata": {},
     "output_type": "execute_result"
    }
   ],
   "source": [
    "X_test_processed"
   ]
  },
  {
   "cell_type": "markdown",
   "metadata": {
    "colab_type": "text",
    "id": "BB6juDZeChPL"
   },
   "source": [
    "___"
   ]
  },
  {
   "cell_type": "markdown",
   "metadata": {},
   "source": [
    "# Metric evaluating our models"
   ]
  },
  {
   "cell_type": "markdown",
   "metadata": {},
   "source": [
    "A spam filter can make two types of mistakes: classifying a spam as a ham and classifying a ham as a spam."
   ]
  },
  {
   "cell_type": "markdown",
   "metadata": {
    "colab_type": "text",
    "id": "CLtpvggdChPL"
   },
   "source": [
    "# Modeling"
   ]
  },
  {
   "cell_type": "code",
   "execution_count": 33,
   "metadata": {
    "colab": {},
    "colab_type": "code",
    "id": "qPYhR6YbChPM"
   },
   "outputs": [],
   "source": [
    "# machine learning\n",
    "from sklearn.model_selection import StratifiedKFold, RandomizedSearchCV, KFold, GridSearchCV\n",
    "from sklearn.metrics import confusion_matrix, classification_report\n",
    "from sklearn.naive_bayes import MultinomialNB\n",
    "from sklearn.linear_model import LogisticRegressionCV\n",
    "from sklearn.svm import SVC\n",
    "from sklearn.ensemble import RandomForestClassifier\n",
    "import xgboost\n",
    "\n",
    "# plotting\n",
    "import matplotlib.pyplot as plt\n",
    "import seaborn as sns\n",
    "%matplotlib inline \n",
    "\n",
    "# others\n",
    "from scipy.stats import uniform, randint, loguniform\n",
    "import joblib # storing models"
   ]
  },
  {
   "cell_type": "code",
   "execution_count": 34,
   "metadata": {
    "colab": {},
    "colab_type": "code",
    "id": "qPYhR6YbChPM"
   },
   "outputs": [],
   "source": [
    "models = {} # storing trained models\n",
    "models_names = [] # storing models names\n",
    "\n",
    "# add models and its name to dict\n",
    "def add_model(name, model, \n",
    "              models_list=models,\n",
    "              name_list=models_names):\n",
    "    name_list.append(name)\n",
    "    models_list[name] = model"
   ]
  },
  {
   "cell_type": "code",
   "execution_count": 35,
   "metadata": {},
   "outputs": [],
   "source": [
    "def get_classification_report(model, X_test=X_test_processed, y_test=y_test):\n",
    "    y_pred = model.predict(X_test)\n",
    "    print(classification_report(y_test, y_pred, \n",
    "                                target_names=[\"not spam\", \"spam\"],\n",
    "                                digits=4))"
   ]
  },
  {
   "cell_type": "markdown",
   "metadata": {},
   "source": [
    "## Building models and tuning them"
   ]
  },
  {
   "cell_type": "markdown",
   "metadata": {
    "colab_type": "text",
    "id": "20VwDQN7ChPN"
   },
   "source": [
    "### Naive Bayes (baseline model)"
   ]
  },
  {
   "cell_type": "code",
   "execution_count": 36,
   "metadata": {
    "colab": {},
    "colab_type": "code",
    "executionInfo": {
     "elapsed": 725,
     "status": "ok",
     "timestamp": 1597024275917,
     "user": {
      "displayName": "洪培翊",
      "photoUrl": "",
      "userId": "11336533706330979787"
     },
     "user_tz": -480
    },
    "id": "Nnb5zlV_ChPN",
    "outputId": "b1f133ef-c529-4a4a-c3ce-fa8d8431beac"
   },
   "outputs": [],
   "source": [
    "nb = MultinomialNB().fit(X_train_processed, y_train)"
   ]
  },
  {
   "cell_type": "code",
   "execution_count": 37,
   "metadata": {},
   "outputs": [],
   "source": [
    "add_model(\"Naive Bayes\", nb)"
   ]
  },
  {
   "cell_type": "markdown",
   "metadata": {
    "colab_type": "text",
    "id": "vA2XCXD4ChPT"
   },
   "source": [
    "### Logistic regression"
   ]
  },
  {
   "cell_type": "code",
   "execution_count": 38,
   "metadata": {},
   "outputs": [
    {
     "data": {
      "text/plain": [
       "LogisticRegressionCV(Cs=20, class_weight=None, cv=5, dual=False,\n",
       "                     fit_intercept=True, intercept_scaling=1.0, l1_ratios=None,\n",
       "                     max_iter=1000, multi_class='auto', n_jobs=None,\n",
       "                     penalty='l2', random_state=None, refit=True,\n",
       "                     scoring='accuracy', solver='lbfgs', tol=0.0001, verbose=0)"
      ]
     },
     "execution_count": 38,
     "metadata": {},
     "output_type": "execute_result"
    }
   ],
   "source": [
    "logitCV = LogisticRegressionCV(max_iter=1000,\n",
    "                               Cs=20, cv=5,\n",
    "                               scoring=\"accuracy\")\n",
    "logitCV.fit(X_train_processed, y_train)"
   ]
  },
  {
   "cell_type": "code",
   "execution_count": 39,
   "metadata": {},
   "outputs": [],
   "source": [
    "add_model(\"Logistic regression\", logitCV)"
   ]
  },
  {
   "cell_type": "markdown",
   "metadata": {},
   "source": [
    "## SVM"
   ]
  },
  {
   "cell_type": "code",
   "execution_count": null,
   "metadata": {},
   "outputs": [],
   "source": [
    "svc = SVC()\n",
    "svc_params = {'C': loguniform(1e0, 1e3),\n",
    "              'gamma': loguniform(1e-4, 1e-3),\n",
    "              'kernel': ['rbf'],\n",
    "              'class_weight':['balanced', None]}\n",
    "svc_grid = RandomizedSearchCV(svc, svc_params, \n",
    "                              n_jobs=-1, cv=10,\n",
    "                              n_iter=15, scoring=\"accuracy\")"
   ]
  },
  {
   "cell_type": "code",
   "execution_count": null,
   "metadata": {},
   "outputs": [],
   "source": [
    "svc_grid.fit(X_train_processed, y_train)"
   ]
  },
  {
   "cell_type": "code",
   "execution_count": null,
   "metadata": {},
   "outputs": [],
   "source": [
    "svc_best = svc_grid.best_estimator_"
   ]
  },
  {
   "cell_type": "code",
   "execution_count": 50,
   "metadata": {},
   "outputs": [],
   "source": [
    "svc = joblib.load(\"tmp/svc.pkl\")"
   ]
  },
  {
   "cell_type": "code",
   "execution_count": 51,
   "metadata": {},
   "outputs": [
    {
     "data": {
      "text/plain": [
       "{'C': 280.3887191550727,\n",
       " 'break_ties': False,\n",
       " 'cache_size': 200,\n",
       " 'class_weight': 'balanced',\n",
       " 'coef0': 0.0,\n",
       " 'decision_function_shape': 'ovr',\n",
       " 'degree': 3,\n",
       " 'gamma': 0.000984422644629166,\n",
       " 'kernel': 'rbf',\n",
       " 'max_iter': -1,\n",
       " 'probability': False,\n",
       " 'random_state': None,\n",
       " 'shrinking': True,\n",
       " 'tol': 0.001,\n",
       " 'verbose': False}"
      ]
     },
     "execution_count": 51,
     "metadata": {},
     "output_type": "execute_result"
    }
   ],
   "source": [
    "svc.get_params()"
   ]
  },
  {
   "cell_type": "code",
   "execution_count": 42,
   "metadata": {},
   "outputs": [],
   "source": [
    "add_model(\"SVM\", svc)"
   ]
  },
  {
   "cell_type": "markdown",
   "metadata": {
    "colab_type": "text",
    "id": "2yUIvQEQChPe"
   },
   "source": [
    "### Random Forest"
   ]
  },
  {
   "cell_type": "code",
   "execution_count": 43,
   "metadata": {
    "colab": {},
    "colab_type": "code",
    "id": "m9sQgkMAChPe"
   },
   "outputs": [
    {
     "name": "stdout",
     "output_type": "stream",
     "text": [
      "Max Depth:  10, oob accuracy: 0.8582\n",
      "Max Depth:  50, oob accuracy: 0.9711\n",
      "Max Depth: 100, oob accuracy: 0.9721\n",
      "Max Depth: 150, oob accuracy: 0.9694\n"
     ]
    }
   ],
   "source": [
    "max_depths = [10, 50, 100, 150]\n",
    "for depth in max_depths:\n",
    "    rf = RandomForestClassifier(n_jobs=-1, oob_score=True, \n",
    "                                n_estimators=1500, random_state=44,\n",
    "                                max_depth=depth)\n",
    "    rf.fit(X_train_processed, y_train)\n",
    "    print(f\"Max Depth: {depth:3}, oob accuracy: {rf.oob_score_:.4f}\")"
   ]
  },
  {
   "cell_type": "code",
   "execution_count": 44,
   "metadata": {},
   "outputs": [
    {
     "name": "stdout",
     "output_type": "stream",
     "text": [
      "Max Depth:  90, oob accuracy: 0.9700\n",
      "Max Depth: 100, oob accuracy: 0.9711\n",
      "Max Depth: 110, oob accuracy: 0.9704\n",
      "Max Depth: 120, oob accuracy: 0.9708\n",
      "Max Depth: 130, oob accuracy: 0.9698\n"
     ]
    }
   ],
   "source": [
    "max_depths = [90, 100, 110, 120, 130]\n",
    "for depth in max_depths:\n",
    "    rf = RandomForestClassifier(n_jobs=-1, oob_score=True, \n",
    "                                n_estimators=1000, random_state=44,\n",
    "                                max_depth=depth)\n",
    "    rf.fit(X_train_processed, y_train)\n",
    "    print(f\"Max Depth: {depth:3}, oob accuracy: {rf.oob_score_:.4f}\")"
   ]
  },
  {
   "cell_type": "code",
   "execution_count": 45,
   "metadata": {},
   "outputs": [
    {
     "data": {
      "text/plain": [
       "RandomForestClassifier(bootstrap=True, ccp_alpha=0.0, class_weight=None,\n",
       "                       criterion='gini', max_depth=100, max_features='auto',\n",
       "                       max_leaf_nodes=None, max_samples=None,\n",
       "                       min_impurity_decrease=0.0, min_impurity_split=None,\n",
       "                       min_samples_leaf=1, min_samples_split=2,\n",
       "                       min_weight_fraction_leaf=0.0, n_estimators=1000,\n",
       "                       n_jobs=-1, oob_score=True, random_state=44, verbose=0,\n",
       "                       warm_start=False)"
      ]
     },
     "execution_count": 45,
     "metadata": {},
     "output_type": "execute_result"
    }
   ],
   "source": [
    "rf = RandomForestClassifier(n_jobs=-1, oob_score=True, \n",
    "                            n_estimators=1000, random_state=44,\n",
    "                            max_depth=100)\n",
    "rf.fit(X_train_processed, y_train)"
   ]
  },
  {
   "cell_type": "code",
   "execution_count": 46,
   "metadata": {},
   "outputs": [],
   "source": [
    "add_model(\"Random forest\", rf)"
   ]
  },
  {
   "cell_type": "markdown",
   "metadata": {},
   "source": [
    "## Evaluate on test set"
   ]
  },
  {
   "cell_type": "code",
   "execution_count": 47,
   "metadata": {},
   "outputs": [
    {
     "name": "stdout",
     "output_type": "stream",
     "text": [
      "Naive Bayes\n",
      "              precision    recall  f1-score   support\n",
      "\n",
      "    not spam     0.8494    0.9988    0.9181       830\n",
      "        spam     0.9957    0.6132    0.7590       380\n",
      "\n",
      "    accuracy                         0.8777      1210\n",
      "   macro avg     0.9226    0.8060    0.8385      1210\n",
      "weighted avg     0.8953    0.8777    0.8681      1210\n",
      "\n",
      "-----------------------------------------\n",
      "\n",
      "Logistic regression\n",
      "              precision    recall  f1-score   support\n",
      "\n",
      "    not spam     0.9927    0.9880    0.9903       830\n",
      "        spam     0.9740    0.9842    0.9791       380\n",
      "\n",
      "    accuracy                         0.9868      1210\n",
      "   macro avg     0.9833    0.9861    0.9847      1210\n",
      "weighted avg     0.9868    0.9868    0.9868      1210\n",
      "\n",
      "-----------------------------------------\n",
      "\n",
      "SVM\n",
      "              precision    recall  f1-score   support\n",
      "\n",
      "    not spam     0.9891    0.9880    0.9885       830\n",
      "        spam     0.9738    0.9763    0.9750       380\n",
      "\n",
      "    accuracy                         0.9843      1210\n",
      "   macro avg     0.9814    0.9821    0.9818      1210\n",
      "weighted avg     0.9843    0.9843    0.9843      1210\n",
      "\n",
      "-----------------------------------------\n",
      "\n",
      "Random forest\n",
      "              precision    recall  f1-score   support\n",
      "\n",
      "    not spam     0.9776    0.9976    0.9875       830\n",
      "        spam     0.9945    0.9500    0.9717       380\n",
      "\n",
      "    accuracy                         0.9826      1210\n",
      "   macro avg     0.9860    0.9738    0.9796      1210\n",
      "weighted avg     0.9829    0.9826    0.9825      1210\n",
      "\n",
      "-----------------------------------------\n",
      "\n"
     ]
    }
   ],
   "source": [
    "for name in models_names:\n",
    "    print(name)\n",
    "    get_classification_report(models[name])\n",
    "    print(\"-----------------------------------------\")\n",
    "    print()"
   ]
  },
  {
   "cell_type": "markdown",
   "metadata": {},
   "source": [
    "## Comparing performance of models using ROC curve and AUC"
   ]
  },
  {
   "cell_type": "code",
   "execution_count": 57,
   "metadata": {},
   "outputs": [],
   "source": [
    "from sklearn.metrics import roc_curve, roc_auc_score\n",
    "\n",
    "def plot_roc_curve(models_names=models_names, models=models):\n",
    "    \n",
    "    plt.figure(dpi=120)\n",
    "    for name in models_names:\n",
    "        if name == \"SVM\":\n",
    "            y_score = models[name].decision_function(X_test_processed)\n",
    "            fpr, tpr, thresholds = roc_curve(y_test, y_score)\n",
    "            auc = roc_auc_score(y_test, y_score)\n",
    "            label = name + f\"({auc:.4f})\"\n",
    "            plt.plot(fpr, tpr, label=label)\n",
    "        else:\n",
    "            y_score = models[name].predict_proba(X_test_processed)[:,1]\n",
    "            fpr, tpr, thresholds = roc_curve(y_test, y_score)\n",
    "            auc = roc_auc_score(y_test, y_score)\n",
    "            label = name + f\"({auc:.4f})\"\n",
    "            plt.plot(fpr, tpr, label=label)\n",
    "    plt.plot([0, 1], [0,1], \"b--\")\n",
    "    plt.xlim(-0.01, 1.02)\n",
    "    plt.ylim(-0.01, 1.02)\n",
    "    plt.legend(title=\"Model (AUC score)\",loc=(1.01, 0.4))"
   ]
  },
  {
   "cell_type": "code",
   "execution_count": 56,
   "metadata": {},
   "outputs": [
    {
     "data": {
      "image/png": "[encoded data removed]",
      "text/plain": [
       "<Figure size 720x480 with 1 Axes>"
      ]
     },
     "metadata": {
      "needs_background": "light"
     },
     "output_type": "display_data"
    }
   ],
   "source": [
    "plot_roc_curve()"
   ]
  },
  {
   "cell_type": "code",
   "execution_count": null,
   "metadata": {},
   "outputs": [],
   "source": []
  }
 ],
 "metadata": {
  "accelerator": "GPU",
  "colab": {
   "collapsed_sections": [
    "YdJZCF6BChN5",
    "XD2Zem3_ChN7",
    "cHhCGofDChOK",
    "nBOi4vYKChOY",
    "nPYK1xCWChOo",
    "ZDKGHouIChOw",
    "2YqHdN6VChOw",
    "xItGLOX6ChO3",
    "COK-uIqkChO7",
    "wMXybZj0ChO-",
    "xM-l289RChPD",
    "CLtpvggdChPL"
   ],
   "name": "Apache Spam Classification.ipynb",
   "provenance": []
  },
  "kernelspec": {
   "display_name": "Python 3",
   "language": "python",
   "name": "python3"
  },
  "language_info": {
   "codemirror_mode": {
    "name": "ipython",
    "version": 3
   },
   "file_extension": ".py",
   "mimetype": "text/x-python",
   "name": "python",
   "nbconvert_exporter": "python",
   "pygments_lexer": "ipython3",
   "version": "3.7.7"
  }
 },
 "nbformat": 4,
 "nbformat_minor": 1
}
